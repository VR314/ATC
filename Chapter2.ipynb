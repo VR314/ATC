{
  "nbformat": 4,
  "nbformat_minor": 0,
  "metadata": {
    "colab": {
      "name": "Chapter2.ipynb",
      "provenance": [],
      "authorship_tag": "ABX9TyOViGnM55dq/5b8NwG+ajPh",
      "include_colab_link": true
    },
    "kernelspec": {
      "name": "python3",
      "display_name": "Python 3"
    },
    "language_info": {
      "name": "python"
    }
  },
  "cells": [
    {
      "cell_type": "markdown",
      "metadata": {
        "id": "view-in-github",
        "colab_type": "text"
      },
      "source": [
        "<a href=\"https://colab.research.google.com/github/VR314/ATC/blob/master/Chapter2.ipynb\" target=\"_parent\"><img src=\"https://colab.research.google.com/assets/colab-badge.svg\" alt=\"Open In Colab\"/></a>"
      ]
    },
    {
      "cell_type": "markdown",
      "metadata": {
        "id": "auox5mLa7XbD"
      },
      "source": [
        "# Chapter 2: Types, Operators, and Expressions\n",
        "\n",
        "The following two cells are the _**cell magic**_ that I need to run so that I can run C code, in cells prefixed with %%c. "
      ]
    },
    {
      "cell_type": "code",
      "metadata": {
        "id": "YRFytqb67gt7"
      },
      "source": [
        "from IPython.core.magic import register_cell_magic"
      ],
      "execution_count": 20,
      "outputs": []
    },
    {
      "cell_type": "code",
      "metadata": {
        "id": "66d8H09w7hT5"
      },
      "source": [
        "@register_cell_magic\n",
        "def c(line, cell):\n",
        "  ip = get_ipython()\n",
        "\n",
        "  source_filename = \"_temp.c\"\n",
        "  program_filename = \"_temp\"\n",
        "\n",
        "  with open(source_filename, \"w\") as f:\n",
        "    f.write(cell)\n",
        "\n",
        "  compile = ip.getoutput(\"gcc {0:s} -o {1:s}\".format(\n",
        "      source_filename, program_filename\n",
        "  ))\n",
        "\n",
        "  if len(compile) > 0:\n",
        "    for line in compile:\n",
        "      print(line)\n",
        "    print('----------------------------')\n",
        "\n",
        "\n",
        "  output = ip.getoutput('./{0:s}'.format(program_filename))\n",
        "  print('n'.join(output))\n"
      ],
      "execution_count": 21,
      "outputs": []
    },
    {
      "cell_type": "markdown",
      "metadata": {
        "id": "C6LtZGxt71k_"
      },
      "source": [
        "---"
      ]
    },
    {
      "cell_type": "markdown",
      "metadata": {
        "id": "j3ZMgl7R72xD"
      },
      "source": [
        "## 2.1: Variable Names\n",
        "\n",
        "Convention: all lowercase for variables, ALL UPPER FOR CONSTANTS."
      ]
    },
    {
      "cell_type": "markdown",
      "metadata": {
        "id": "9KfkJaS1C0R-"
      },
      "source": [
        "## 2.2 Data Types & Sizes\n",
        "\n",
        "- `char`: a single byte\n",
        "- `int`: an integer\n",
        "  - `short` and `long`, `signed` and `unsigned` are qualifiers for int\n",
        "- `float`: single precision floating point\n",
        "- `double`: double precision floating point"
      ]
    }
  ]
}